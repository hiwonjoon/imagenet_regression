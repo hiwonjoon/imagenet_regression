{
 "cells": [
  {
   "cell_type": "code",
   "execution_count": 1,
   "metadata": {
    "collapsed": false,
    "scrolled": true
   },
   "outputs": [
    {
     "name": "stderr",
     "output_type": "stream",
     "text": [
      "Using gpu device 1: Tesla K40c (CNMeM is disabled)\n"
     ]
    }
   ],
   "source": [
    "import sys\n",
    "sys.path.insert(0,'../')\n",
    "\n",
    "import network\n",
    "reload(network)\n",
    "\n",
    "net = network.Net()"
   ]
  },
  {
   "cell_type": "code",
   "execution_count": 2,
   "metadata": {
    "collapsed": false
   },
   "outputs": [],
   "source": [
    "import data_loader\n",
    "reload(data_loader)\n",
    "\n",
    "from data_loader import DataLoader\n",
    "\n",
    "classes = [wnid.strip() for wnid in open('../synsets.txt').readlines()]\n",
    "dataset = DataLoader(classes, '../../ilsvrc2012/train_resized','../../ilsvrc2012/val_resized')"
   ]
  },
  {
   "cell_type": "code",
   "execution_count": 5,
   "metadata": {
    "collapsed": false,
    "scrolled": true
   },
   "outputs": [],
   "source": [
    "from PIL import Image\n",
    "import preprocessor\n",
    "reload(preprocessor)\n",
    "from preprocessor import Fetcher\n",
    "import tree_distance\n",
    "reload(tree_distance)\n",
    "from tree_distance import Distance\n",
    "\n",
    "fetcher = Fetcher('center',net.MEAN_IMAGE)\n",
    "distance = Distance('../wordnet.is_a.txt','../synsets.txt')"
   ]
  },
  {
   "cell_type": "code",
   "execution_count": null,
   "metadata": {
    "collapsed": false,
    "scrolled": true
   },
   "outputs": [],
   "source": [
    "from multiprocessing import Pool, Process, Queue, Value\n",
    "import sys, datetime\n",
    "\n",
    "def fetch(q,max_buf,flag,fetcher,distance) :\n",
    "    while(flag.value != 0) :\n",
    "        if( q.qsize() < max_buf ) :\n",
    "            fetched1 = dataset.fetch_train(64)\n",
    "            fetched2 = dataset.fetch_train(64)\n",
    "\n",
    "            ims1 = fetcher.fetch(fetched1)\n",
    "            ims2 = fetcher.fetch(fetched2)\n",
    "            dist = distance.dist(fetched1,fetched2)\n",
    "            q.put((ims1,ims2,dist))\n",
    "            \n",
    "#             import datetime\n",
    "#             print 'Enqueued', datetime.datetime.now()\n",
    "#             sys.stdout.flush()\n",
    "\n",
    "            \n",
    "q = Queue()\n",
    "flag = Value('d', 1) \n",
    "p = Process(target=fetch,args=(q,10,flag,fetcher,distance))\n",
    "\n",
    "p.start()\n",
    "for i in range(100000):\n",
    "    ims1,ims2,dist = q.get()\n",
    "    loss, loss_before_clipped = net.train(ims1,ims2,dist)\n",
    "    \n",
    "#     import datetime\n",
    "#     print 'Trained', datetime.datetime.now()\n",
    "#     sys.stdout.flush()\n",
    "    if i % 100 == 0 :\n",
    "        print datetime.datetime.now(), i, loss, loss_before_clipped\n",
    "        sys.stdout.flush()\n",
    "\n",
    "flag.value = 0\n",
    "p.join()"
   ]
  },
  {
   "cell_type": "code",
   "execution_count": null,
   "metadata": {
    "collapsed": true
   },
   "outputs": [],
   "source": []
  }
 ],
 "metadata": {
  "kernelspec": {
   "display_name": "Python 2",
   "language": "python",
   "name": "python2"
  },
  "language_info": {
   "codemirror_mode": {
    "name": "ipython",
    "version": 2
   },
   "file_extension": ".py",
   "mimetype": "text/x-python",
   "name": "python",
   "nbconvert_exporter": "python",
   "pygments_lexer": "ipython2",
   "version": "2.7.6"
  }
 },
 "nbformat": 4,
 "nbformat_minor": 0
}
