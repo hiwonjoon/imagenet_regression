{
 "cells": [
  {
   "cell_type": "code",
   "execution_count": 1,
   "metadata": {
    "collapsed": false,
    "scrolled": true
   },
   "outputs": [
    {
     "name": "stdout",
     "output_type": "stream",
     "text": [
      "env: THEANO_FLAGS=mode=FAST_RUN,device=gpu1\n"
     ]
    },
    {
     "name": "stderr",
     "output_type": "stream",
     "text": [
      "Using gpu device 1: Tesla K40c (CNMeM is disabled)\n"
     ]
    }
   ],
   "source": [
    "%env THEANO_FLAGS=mode=FAST_RUN,device=gpu1\n",
    "import sys\n",
    "sys.path.insert(0,'../')\n",
    "\n",
    "import network\n",
    "reload(network)\n",
    "\n",
    "net = network.Net()\n",
    "net.change_lr(0.001)"
   ]
  },
  {
   "cell_type": "code",
   "execution_count": 2,
   "metadata": {
    "collapsed": false
   },
   "outputs": [],
   "source": [
    "import data_loader\n",
    "reload(data_loader)\n",
    "\n",
    "from data_loader import DataLoader\n",
    "\n",
    "classes = [wnid.strip() for wnid in open('../synsets.txt').readlines()]\n",
    "dataset = DataLoader( '../../ilsvrc2012','/home/nine/workspace/caffe/data/ilsvrc12/train.txt','/home/nine/workspace/caffe/data/ilsvrc12/val.txt')"
   ]
  },
  {
   "cell_type": "code",
   "execution_count": 3,
   "metadata": {
    "collapsed": false,
    "scrolled": true
   },
   "outputs": [],
   "source": [
    "from PIL import Image\n",
    "import preprocessor\n",
    "reload(preprocessor)\n",
    "from preprocessor import Fetcher\n",
    "import tree_distance\n",
    "reload(tree_distance)\n",
    "from tree_distance import Distance\n",
    "import cPickle as pickle\n",
    "\n",
    "mean = pickle.load(open('mean.pkl'))\n",
    "fetcher = Fetcher('center',mean)\n",
    "distance = Distance('../wordnet.is_a.txt','../synsets.txt')"
   ]
  },
  {
   "cell_type": "code",
   "execution_count": 9,
   "metadata": {
    "collapsed": false
   },
   "outputs": [],
   "source": [
    "#net.load_model('trained.pkl')\n",
    "pickle.dump(pickle.load(open('../../models/vgg_cnn_s.pkl'))['values'],open('trained.pkl','wb'))\n",
    "net.load_model('trained.pkl')"
   ]
  },
  {
   "cell_type": "code",
   "execution_count": 10,
   "metadata": {
    "collapsed": false,
    "scrolled": true
   },
   "outputs": [
    {
     "name": "stderr",
     "output_type": "stream",
     "text": [
      "Process Process-1:\n",
      "Traceback (most recent call last):\n",
      "  File \"/usr/lib/python2.7/multiprocessing/process.py\", line 258, in _bootstrap\n",
      "    self.run()\n",
      "  File \"/usr/lib/python2.7/multiprocessing/process.py\", line 114, in run\n",
      "    self._target(*self._args, **self._kwargs)\n",
      "  File \"<ipython-input-10-e5a79f1db338>\", line 10, in fetch\n",
      "    ims1 = fetcher.fetch(fetched1)\n",
      "  File \"../preprocessor.py\", line 44, in fetch\n",
      "    self._preprocess(loc,ret,i)\n",
      "  File \"../preprocessor.py\", line 25, in _preprocess\n",
      "    im = self.crop(im)\n",
      "  File \"../preprocessor.py\", line 36, in _center_crop\n",
      "    h, w, _ = im.shape\n",
      "ValueError: need more than 2 values to unpack\n"
     ]
    },
    {
     "ename": "KeyboardInterrupt",
     "evalue": "",
     "output_type": "error",
     "traceback": [
      "\u001b[1;31m---------------------------------------------------------------------------\u001b[0m",
      "\u001b[1;31mKeyboardInterrupt\u001b[0m                         Traceback (most recent call last)",
      "\u001b[1;32m<ipython-input-10-e5a79f1db338>\u001b[0m in \u001b[0;36m<module>\u001b[1;34m()\u001b[0m\n\u001b[0;32m     29\u001b[0m \u001b[0mnet\u001b[0m\u001b[1;33m.\u001b[0m\u001b[0mchange_lr\u001b[0m\u001b[1;33m(\u001b[0m\u001b[1;36m0.001\u001b[0m\u001b[1;33m)\u001b[0m\u001b[1;33m\u001b[0m\u001b[0m\n\u001b[0;32m     30\u001b[0m \u001b[1;32mfor\u001b[0m \u001b[0mi\u001b[0m \u001b[1;32min\u001b[0m \u001b[0mrange\u001b[0m\u001b[1;33m(\u001b[0m\u001b[1;36m100000\u001b[0m\u001b[1;33m)\u001b[0m\u001b[1;33m:\u001b[0m\u001b[1;33m\u001b[0m\u001b[0m\n\u001b[1;32m---> 31\u001b[1;33m     \u001b[0mims1\u001b[0m\u001b[1;33m,\u001b[0m\u001b[0mims2\u001b[0m\u001b[1;33m,\u001b[0m\u001b[0mdist\u001b[0m \u001b[1;33m=\u001b[0m \u001b[0mq\u001b[0m\u001b[1;33m.\u001b[0m\u001b[0mget\u001b[0m\u001b[1;33m(\u001b[0m\u001b[1;33m)\u001b[0m\u001b[1;33m\u001b[0m\u001b[0m\n\u001b[0m\u001b[0;32m     32\u001b[0m     \u001b[0mloss\u001b[0m \u001b[1;33m=\u001b[0m \u001b[0mnet\u001b[0m\u001b[1;33m.\u001b[0m\u001b[0mtrain\u001b[0m\u001b[1;33m(\u001b[0m\u001b[0mims1\u001b[0m\u001b[1;33m,\u001b[0m\u001b[0mims2\u001b[0m\u001b[1;33m,\u001b[0m\u001b[0mdist\u001b[0m\u001b[1;33m)\u001b[0m\u001b[1;33m\u001b[0m\u001b[0m\n\u001b[0;32m     33\u001b[0m \u001b[1;33m\u001b[0m\u001b[0m\n",
      "\u001b[1;32m/usr/lib/python2.7/multiprocessing/queues.pyc\u001b[0m in \u001b[0;36mget\u001b[1;34m(self, block, timeout)\u001b[0m\n\u001b[0;32m    115\u001b[0m             \u001b[0mself\u001b[0m\u001b[1;33m.\u001b[0m\u001b[0m_rlock\u001b[0m\u001b[1;33m.\u001b[0m\u001b[0macquire\u001b[0m\u001b[1;33m(\u001b[0m\u001b[1;33m)\u001b[0m\u001b[1;33m\u001b[0m\u001b[0m\n\u001b[0;32m    116\u001b[0m             \u001b[1;32mtry\u001b[0m\u001b[1;33m:\u001b[0m\u001b[1;33m\u001b[0m\u001b[0m\n\u001b[1;32m--> 117\u001b[1;33m                 \u001b[0mres\u001b[0m \u001b[1;33m=\u001b[0m \u001b[0mself\u001b[0m\u001b[1;33m.\u001b[0m\u001b[0m_recv\u001b[0m\u001b[1;33m(\u001b[0m\u001b[1;33m)\u001b[0m\u001b[1;33m\u001b[0m\u001b[0m\n\u001b[0m\u001b[0;32m    118\u001b[0m                 \u001b[0mself\u001b[0m\u001b[1;33m.\u001b[0m\u001b[0m_sem\u001b[0m\u001b[1;33m.\u001b[0m\u001b[0mrelease\u001b[0m\u001b[1;33m(\u001b[0m\u001b[1;33m)\u001b[0m\u001b[1;33m\u001b[0m\u001b[0m\n\u001b[0;32m    119\u001b[0m                 \u001b[1;32mreturn\u001b[0m \u001b[0mres\u001b[0m\u001b[1;33m\u001b[0m\u001b[0m\n",
      "\u001b[1;31mKeyboardInterrupt\u001b[0m: "
     ]
    }
   ],
   "source": [
    "from multiprocessing import Pool, Process, Queue, Value\n",
    "import sys, datetime\n",
    "\n",
    "def fetch(q,max_buf,flag,fetcher,distance) :\n",
    "    while(flag.value != 0) :\n",
    "        if( q.qsize() < max_buf ) :\n",
    "            fetched1 = dataset.fetch_train(64)\n",
    "            fetched2 = dataset.fetch_train(64)\n",
    "\n",
    "            ims1 = fetcher.fetch(fetched1)\n",
    "            ims2 = fetcher.fetch(fetched2)\n",
    "            dist = distance.dist(fetched1,fetched2)\n",
    "            q.put((ims1,ims2,dist))\n",
    "            \n",
    "#             import datetime\n",
    "#             print 'Enqueued', datetime.datetime.now()\n",
    "#             sys.stdout.flush()\n",
    "\n",
    "            \n",
    "q = Queue()\n",
    "flag = Value('d', 1) \n",
    "p = Process(target=fetch,args=(q,10,flag,fetcher,distance))\n",
    "\n",
    "p.start()\n",
    "\n",
    "import logging\n",
    "logging.basicConfig(filename='train.log',level=logging.DEBUG)\n",
    "\n",
    "net.change_lr(0.001)\n",
    "for i in range(100000):\n",
    "    ims1,ims2,dist = q.get()\n",
    "    loss = net.train(ims1,ims2,dist)\n",
    "    \n",
    "#     import datetime\n",
    "#     print 'Trained', datetime.datetime.now()\n",
    "#     sys.stdout.flush()\n",
    "    if i % 10 == 0 :\n",
    "        log = \"{},{},{}\".format(datetime.datetime.now(), i, loss)\n",
    "        print log\n",
    "        sys.stdout.flush()\n",
    "        \n",
    "        logging.info(log)\n",
    "\n",
    "flag.value = 0\n",
    "p.join()"
   ]
  },
  {
   "cell_type": "code",
   "execution_count": null,
   "metadata": {
    "collapsed": true
   },
   "outputs": [],
   "source": [
    "net.save_model('trained.pkl')"
   ]
  },
  {
   "cell_type": "code",
   "execution_count": null,
   "metadata": {
    "collapsed": false
   },
   "outputs": [],
   "source": [
    "import matplotlib.pyplot as plt\n",
    "%matplotlib inline\n",
    "\n",
    "fetch_1 = dataset.fetch_val(1)\n",
    "fetch_2 = dataset.fetch_val(1)\n",
    "\n",
    "plt.subplot(121)\n",
    "plt.imshow(Image.open(fetch_1[0][1]))\n",
    "plt.subplot(122)\n",
    "plt.imshow(Image.open(fetch_2[0][1]))\n",
    "\n",
    "dist,_,_ = net.test(fetcher.fetch(fetch_1),fetcher.fetch(fetch_2))\n",
    "print classes[fetch_1[0][0]], classes[fetch_2[0][0]], distance.dist(fetch_1,fetch_2), dist"
   ]
  }
 ],
 "metadata": {
  "kernelspec": {
   "display_name": "Python 2",
   "language": "python",
   "name": "python2"
  },
  "language_info": {
   "codemirror_mode": {
    "name": "ipython",
    "version": 2
   },
   "file_extension": ".py",
   "mimetype": "text/x-python",
   "name": "python",
   "nbconvert_exporter": "python",
   "pygments_lexer": "ipython2",
   "version": "2.7.6"
  }
 },
 "nbformat": 4,
 "nbformat_minor": 0
}
